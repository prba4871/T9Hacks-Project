{
 "cells": [
  {
   "cell_type": "code",
   "execution_count": 1,
   "metadata": {
    "id": "Z35TdKjRvu7V"
   },
   "outputs": [],
   "source": [
    "##This is a Jupyter notebook for Linear Algebra HW.\n",
    "##Belongs to Divya E. Vernerey\n",
    "##January 2025"
   ]
  },
  {
   "cell_type": "code",
   "execution_count": 2,
   "metadata": {
    "id": "PO9Kv1Rzvu7Z",
    "outputId": "3346c157-cf28-41c8-abc7-3998bacd0951"
   },
   "outputs": [
    {
     "name": "stdout",
     "output_type": "stream",
     "text": [
      "Requirement already satisfied: numpy in /opt/conda/lib/python3.10/site-packages (1.23.5)\n"
     ]
    }
   ],
   "source": [
    "!pip install numpy"
   ]
  },
  {
   "cell_type": "markdown",
   "metadata": {
    "id": "bKv3dQYVvu7a"
   },
   "source": [
    "## Linear Transformations"
   ]
  },
  {
   "cell_type": "markdown",
   "metadata": {
    "id": "Hr9w4bvsvu7c"
   },
   "source": [
    "Let us shift the focus from solving linear systems to the use of matrix algebra to represent maps between vector spaces.  We will see that certain class of useful maps called linear transformations can be described with matrix multiplication.\n",
    "\n",
    "A **mapping** between vector spaces is a rule that associates input vectors with output vectors.  We say that the input vectors get \"mapped\" to the output vectors.  The input and output vectors may be in different spaces, or they may be in the same space.  There may be multiple input vectors that get mapped to a single output vector, but it is important that each input vector gets mapped to a unique output vector.  In the language of calculus, mappings are known as functions.\n",
    "\n",
    "\n",
    "When we refer to a specific map, we might use a symbol, such as $T$.  In order to specify which spaces contain the input and output vectors, say $\\mathbb{R}^2$ and $\\mathbb{R}^3$, we write $T: \\mathbb{R}^2 \\to \\mathbb{R}^3$.  This notation means that $T$ is a mapping that takes vectors in $\\mathbb{R}^2$ as inputs, and maps them to vectors in $\\mathbb{R}^3$.  When we refer to the output associated with a specific vector, say $V$, we use the notation $T(V)$.  (*This notation is read \"$T$ of $V$\".  The reader familiar with calculus will recognize the notation as that commonly used with functions.*).  Finally, if we wish to label the output vector as $W$, we will write $T(V)=W$, meaning that the input vector $V$ gets mapped to the output vector $W$ by the map $T$.  The vector $W$ is said to be the **image** of $V$ under the map $T$.  Similarly, the vector $V$ is said to be the **preimage** of $W$."
   ]
  },
  {
   "cell_type": "markdown",
   "metadata": {
    "id": "KG32xVpvvu7e"
   },
   "source": [
    "### Example 1:  Transformation from $\\mathbb{R}^2$ to $\\mathbb{R}^3$\n",
    "\n",
    "A Python function that accepts one vector as an argument, and provides one vector in return, is a perfect model of a mapping.  As an example, let's write a function that accepts a vector from $\\mathbb{R}^2$ and returns a vector in $\\mathbb{R}^3$."
   ]
  },
  {
   "cell_type": "code",
   "execution_count": 3,
   "metadata": {
    "id": "jIM_r1rvvu7f",
    "outputId": "6daafe30-4529-4f8b-c814-9fc74ab8059e"
   },
   "outputs": [
    {
     "name": "stdout",
     "output_type": "stream",
     "text": [
      "[[3]\n",
      " [5]] \n",
      "\n",
      " [[6.]\n",
      " [0.]\n",
      " [5.]]\n"
     ]
    }
   ],
   "source": [
    "import numpy as np\n",
    "\n",
    "def T(V):\n",
    "    W = np.zeros((3,1))  #Creating an array of rowSize: 3, and columnSize: 1 that all contain \"0\"\n",
    "    W[0,0] = 2*V[0,0] #Multiplying v1 by \"2\" to get \"2v1\" and storing it in the zeroth index of \"W\"\n",
    "    W[2,0] = V[1,0] #Storing v2 into second index of \"W\"\n",
    "    return W\n",
    "\n",
    "V = np.array([[3],[5]])  #Creating Array \"V\" with 2 rows and 1 column, that is defining v1 as \"3\" and v2 as \"5\"\n",
    "W = T(V)\n",
    "\n",
    "print(V,'\\n\\n',W)"
   ]
  },
  {
   "cell_type": "markdown",
   "metadata": {
    "id": "BhUzTFexvu7g"
   },
   "source": [
    "We can describe this mapping $T:\\mathbb{R}^2 \\to \\mathbb{R}^3$ with the following symbolic formula.\n",
    "\n",
    "$$\n",
    "\\begin{equation}\n",
    "T \\left(\\left[\\begin{array}{r} v_1 \\\\ v_2 \\end{array} \\right]\\right) =\n",
    "\\left[\\begin{array}{r} 2v_1 \\\\ 0  \\\\ v_2 \\end{array} \\right]\n",
    "\\end{equation}\n",
    "$$\n",
    "\n"
   ]
  },
  {
   "cell_type": "markdown",
   "metadata": {
    "id": "jtQfiPoXvu7h"
   },
   "source": [
    "### Linearity\n",
    "\n",
    "A map $T$ is said to be *linear* if the following two properties are true for any scalar $k$, and any input vectors $U$ and $V$.  \n",
    "\n",
    "- $T(kV)$ = $kT(V)$\n",
    "- $T(U + V)$ = $T(U) + T(V)$\n",
    "\n",
    "A linear map is referred to as a **linear transformation**."
   ]
  },
  {
   "cell_type": "markdown",
   "metadata": {
    "id": "G1jrhgutvu7i"
   },
   "source": [
    "The map $T$ in **Example 1** is a linear transformation.  \n",
    "\n",
    "$$\n",
    "\\begin{eqnarray*}\n",
    "T(kV)  = T \\left(\\left [\\begin{array}{r} kv_1 \\\\ kv_2 \\end{array} \\right]\\right) & = &\n",
    "\\left[\\begin{array}{r} 2kv_1 \\\\ 0  \\\\ kv_2 \\end{array} \\right] =\n",
    "k\\left[\\begin{array}{r} 2v_1 \\\\ 0  \\\\ v_2 \\end{array} \\right] = kT(V)\\\\\n",
    "\\\\\n",
    "T(U+V) = T \\left(\\left [\\begin{array}{r} u_1 + v_1 \\\\ u_2 + v_2 \\end{array} \\right]\\right) & = &\n",
    "\\left[\\begin{array}{r} 2u_1 \\\\ 0  \\\\ u_2 \\end{array} \\right] +\n",
    "\\left[\\begin{array}{r} 2v_1 \\\\ 0  \\\\ v_2 \\end{array} \\right] = T(U) + T(V)\n",
    "\\end{eqnarray*}\n",
    "$$\n",
    "\n",
    "If we choose specific vectors $U$ and $V$, and a specific scalar $k$, we can compute the left and right sides of these equations with syntax that matches the notation"
   ]
  },
  {
   "cell_type": "code",
   "execution_count": 4,
   "metadata": {
    "id": "KVKp-1j6vu7j",
    "outputId": "788b80c5-b154-477c-fc89-9a0233a83437"
   },
   "outputs": [
    {
     "name": "stdout",
     "output_type": "stream",
     "text": [
      "[[42.]\n",
      " [ 0.]\n",
      " [35.]] \n",
      "\n",
      "[[42.]\n",
      " [ 0.]\n",
      " [35.]] \n",
      "\n",
      "[[4.]\n",
      " [0.]\n",
      " [8.]] \n",
      "\n",
      "[[4.]\n",
      " [0.]\n",
      " [8.]]\n"
     ]
    }
   ],
   "source": [
    "U = np.array([[-1],[3]])\n",
    "V = np.array([[3],[5]])\n",
    "k = 7\n",
    "print(T(k*V),'\\n')\n",
    "print(k*T(V),'\\n')\n",
    "print(T(U+V),'\\n')\n",
    "print(T(U)+T(V))"
   ]
  },
  {
   "cell_type": "markdown",
   "metadata": {
    "id": "KFq1Pow5vu7l"
   },
   "source": [
    "Showing these equations hold for a *specific choice* of $U$, $V$, and $k$ does not prove that the transformation is linear.  Even if we were to run this code inside a loop and see that the equations held for a million random combinations of $U$, $V$, and $k$, that would still not *prove* that the transformation is linear.  It would however provide numerical evidence to support the claim.  "
   ]
  },
  {
   "cell_type": "markdown",
   "metadata": {
    "id": "Mf6zpqv8vu7l"
   },
   "source": [
    "### Example 2:  Transformation defined as matrix multiplication\n",
    "\n",
    "Let $L:\\mathbb{R}^3 \\to \\mathbb{R}^3$ be defined by $L(X)= AX$ where $A$ is the following matrix.\n",
    "\n",
    "$$\n",
    "\\begin{equation}\n",
    "A = \\left[\\begin{array}{rrr} 1 & 1 & 0 \\\\ 1 & 0 & 2 \\\\ 3 & 1 & -1 \\end{array}\\right]\n",
    "\\end{equation}\n",
    "$$\n",
    "\n",
    "Since matrix multiplication is linear, a transformation defined by matrix multiplication is linear as well.  If $X$ and $Y$ are any vectors in $\\mathbb{R}^3$, and $k$ is any scalar, then $L(X+Y) = A(X+Y) = AX + AY = L(X) + L(Y)$ and $L(kX) = A(kX) = k(AX) = kL(X)$.  We define a function for this transformation as well."
   ]
  },
  {
   "cell_type": "code",
   "execution_count": 5,
   "metadata": {
    "id": "P75hEjjTvu7m",
    "outputId": "0e7fc827-e9c8-4681-eaea-2a361746ddd5"
   },
   "outputs": [
    {
     "name": "stdout",
     "output_type": "stream",
     "text": [
      "[[1]\n",
      " [3]\n",
      " [5]] \n",
      "\n",
      " [[ 4]\n",
      " [11]\n",
      " [ 1]]\n"
     ]
    }
   ],
   "source": [
    "def L(V):\n",
    "    A = np.array([[1,1,0],[1,0,2],[3,1,-1]]) #Create an Array A\n",
    "    W = A@V #Multiplying the two matrix\n",
    "    return W\n",
    "\n",
    "V = np.array([[1],[3],[5]])\n",
    "W = L(V)\n",
    "\n",
    "print(V,'\\n\\n',W)"
   ]
  },
  {
   "cell_type": "markdown",
   "metadata": {
    "id": "woWERfCnvu7n"
   },
   "source": [
    "### Example 3:  Transformation from $\\mathbb{P}^3$ to $\\mathbb{P}^5$\n",
    "\n",
    "In this final example we consider a transformation between vector spaces of polynomials.  We can define a linear transformation $M:\\mathbb{P}_3\\to\\mathbb{P}_5$ by multiplying by some fixed quadratic polynomial, say $x^2 + 2$.  Let's write out the formula for $M$ by calculating $M(P)$ for an arbitrary $P = a_3x^3 + a_2x^2 + a_1x + a_0$.\n",
    "\n",
    "$$\n",
    "\\begin{eqnarray*}\n",
    "M(P) & = & (x^2 + 2)(a_3x^3 + a_2x^2 + a_1x + a_0) \\\\\n",
    "     & = & a_3x^5 + a^2x^4 + (2a_3 + a_1)x^3 + (2a_2 + a_0)x^2 + 2a_1x + 2a_0\n",
    "\\end{eqnarray*}\n",
    "$$\n",
    "\n",
    "This transformation must be linear by the algebraic rules for multiplication.  If $P$ and $Q$ are any polynomials in $\\mathbb{P}^3$ and $k$ is any scalar, we know that $M(P+Q) = (x^2+2)(P+Q) = (x^2+2)P + (x^2+2)Q = M(P) + M(Q)$, and $M(kP) = (x^2+2)(kP) = k[(x^2+2)P] = kM(P)$."
   ]
  },
  {
   "cell_type": "markdown",
   "metadata": {
    "id": "w67MXj4vvu7o"
   },
   "source": [
    "### Compositions\n",
    "\n",
    "If two transformations are to be applied, one after the other, it is common to combine them to form what is known as a **composition**.  This idea only makes sense when the output space of the first transformation matches the input space of the second.  In symbols, if $T:\\mathbb{U}\\to\\mathbb{V}$ and $L:\\mathbb{V}\\to\\mathbb{W}$, then we could consider the composition $L\\circ T:\\mathbb{U}\\to\\mathbb{W}$.  The notation $L\\circ T$ represents the composition formed by applying the map $T$, followed by the map $L$.\n",
    "\n",
    "As an example, if we take $T:\\mathbb{R}^2 \\to \\mathbb{R}^3$ and $L:\\mathbb{R}^3 \\to \\mathbb{R}^3$ to be the transformations defined in **Example 2** and **Example 3**, we could define $L\\circ T:\\mathbb{R}^2 \\to \\mathbb{R}^3$.\n",
    "\n",
    "$$\n",
    "\\begin{equation}\n",
    "(L\\circ T)\\left(\\left[\\begin{array}{r} v_1 \\\\ v_2 \\end{array} \\right]\\right) =\n",
    "\\left[\\begin{array}{rrr} 1 & 1 & 0 \\\\ 1 & 0 & 2 \\\\ 3 & 1 & -1 \\end{array}\\right]\n",
    "\\left[\\begin{array}{r} 2v_1 \\\\ 0  \\\\ v_2 \\end{array} \\right]\n",
    "\\end{equation}\n",
    "$$\n",
    "\n",
    "We can calculate outputs from this transformation by calling the functions we defined earlier *in the appropriate order*, using the output from $T$ as the input to $L$."
   ]
  },
  {
   "cell_type": "code",
   "execution_count": 6,
   "metadata": {
    "id": "QgmlhrXkvu7o",
    "outputId": "ed68aaa1-1f73-486f-a51e-05e6d1054f9f"
   },
   "outputs": [
    {
     "name": "stdout",
     "output_type": "stream",
     "text": [
      "[[ 6.]\n",
      " [16.]\n",
      " [13.]]\n"
     ]
    }
   ],
   "source": [
    "V = np.array([[3],[5]])\n",
    "composition_output = L(T(V))\n",
    "print(composition_output)"
   ]
  },
  {
   "cell_type": "markdown",
   "metadata": {
    "id": "vEAeBS1fvu7o"
   },
   "source": [
    "### Exercises\n",
    "\n",
    "**Exercise 1:** Find the vector $T(V)$ where\n",
    "\n",
    "$$\n",
    "\\begin{equation}\n",
    "V = \\left[\\begin{array}{r} 1 \\\\ 3 \\end{array} \\right]\n",
    "\\end{equation}\n",
    "$$"
   ]
  },
  {
   "cell_type": "code",
   "execution_count": 7,
   "metadata": {
    "id": "EHHxZ8ZMvu7o"
   },
   "outputs": [
    {
     "name": "stdout",
     "output_type": "stream",
     "text": [
      "[[2.]\n",
      " [0.]\n",
      " [3.]]\n"
     ]
    }
   ],
   "source": [
    "## Code solution here.\n",
    "V = np.array([[1],[3]])  #Creating Array \"V\" with 2 rows and 1 column, that is defining v1 as \"1\" and v2 as \"3\"\n",
    "W = T(V)\n",
    "\n",
    "print(W)"
   ]
  },
  {
   "cell_type": "markdown",
   "metadata": {
    "id": "Qgp2xauqvu7o"
   },
   "source": [
    "**Exercise 2:** Find the vector $U$ so that\n",
    "\n",
    "$$\n",
    "\\begin{equation}\n",
    "T(U) = \\left[\\begin{array}{r} 5 \\\\ 0 \\\\ -1 \\end{array} \\right]\n",
    "\\end{equation}\n",
    "$$"
   ]
  },
  {
   "cell_type": "code",
   "execution_count": 8,
   "metadata": {
    "id": "OmjJU3tyvu7q"
   },
   "outputs": [
    {
     "name": "stdout",
     "output_type": "stream",
     "text": [
      "[[2.]\n",
      " [0.]\n",
      " [3.]]\n"
     ]
    }
   ],
   "source": [
    "## Code solution here.\n",
    "U = np.array([[5],[0],[-1]])  \n",
    "W = T(V)\n",
    "print(W)"
   ]
  },
  {
   "cell_type": "markdown",
   "metadata": {
    "id": "2Yf-Ea_8vu7q"
   },
   "source": [
    "**Exercise 3:**  Write a Python function that implements the transformation $N:\\mathbb{R}^3\\to\\mathbb{R}^2$, given by the following rule.  Use the function to find evidence that $N$ is **not linear**.\n",
    "\n",
    "$$\n",
    "\\begin{equation}\n",
    "N \\left(\\left[\\begin{array}{r} v_1 \\\\ v_2 \\\\ v_3 \\end{array} \\right]\\right) =\n",
    "\\left[\\begin{array}{c} 8v_2 \\\\  v_1 + v_2 + 3 \\end{array} \\right]\n",
    "\\end{equation}\n",
    "$$"
   ]
  },
  {
   "cell_type": "code",
   "execution_count": 9,
   "metadata": {
    "id": "NY89fE1Rvu7q"
   },
   "outputs": [
    {
     "name": "stdout",
     "output_type": "stream",
     "text": [
      "[[16.]\n",
      " [ 8.]] \n",
      "\n",
      "[[480.]\n",
      " [113.]] \n",
      "\n",
      "[[496.]\n",
      " [118.]] \n",
      "\n"
     ]
    }
   ],
   "source": [
    "## Code solution here.\n",
    "## Code solution here.\n",
    "import numpy as np\n",
    "\n",
    "def N(V):\n",
    "    W = np.zeros((2,1)) \n",
    "    W[0,0] = 8*V[1,0] \n",
    "    W[1,0] = V[0,0]+V[1,0]+3 \n",
    "    return W\n",
    "\n",
    "#proof that it is not linear\n",
    "U = np.zeros((3,1)) \n",
    "U[0,0] = 3\n",
    "U[1,0]= 2\n",
    "U[2,0] = 1\n",
    "V = np.zeros((3,1))\n",
    "V[0,0] = 50\n",
    "V[1,0] = 60\n",
    "V[2,0] = 40\n",
    "\n",
    "print (N(U) ,'\\n')\n",
    "print (N(V), '\\n')\n",
    "print (N(U+V), '\\n')\n",
    "#if it is not linear, when multiplying by a scalar quantity it will not be equal. Additionally, n(u+v) where u and v are 2 vectors has to be equal to n(u) + n(v).\n",
    "#for example if we pick the first array of [1,2,3], and then another array of [3,4,5] (3 rows 1 column), when we run the example we will see that it is different.\n",
    "#Because 113 + 8 does not equal 121, this is not linear"
   ]
  },
  {
   "cell_type": "markdown",
   "metadata": {
    "id": "pe5oW2FFvu7q"
   },
   "source": [
    "**Exercise 4:**  Consider the two transformations, $S$ and $R$, defined below.  Write a Python function that implements the composition $R\\circ S$.  Explain why it is not possible to form the composition $S \\circ R$.\n",
    "\n",
    "$$\n",
    "\\begin{equation}\n",
    "S \\left(\\left[\\begin{array}{r} v_1 \\\\ v_2 \\\\ v_3 \\end{array} \\right]\\right) =\n",
    "\\left[\\begin{array}{c}   v_1 + v_2 \\\\  3v_3 \\end{array} \\right]\n",
    "\\end{equation}\n",
    "$$\n",
    "\n",
    "$$\n",
    "\\begin{equation}\n",
    "R \\left(\\left[\\begin{array}{r} v_1 \\\\ v_2  \\end{array} \\right]\\right) =\n",
    "\\left[\\begin{array}{rr} 3 &  0 \\\\ -1 & 1 \\end{array}\\right]\n",
    "\\left[\\begin{array}{c}   v_1 \\\\ v_2 \\end{array} \\right]\n",
    "\\end{equation}\n",
    "$$\n",
    "  "
   ]
  },
  {
   "cell_type": "code",
   "execution_count": 10,
   "metadata": {
    "id": "sc7kEYqJvu7q"
   },
   "outputs": [],
   "source": [
    "## Code solution here.\n",
    "def S(V):\n",
    "    W = np.zeros((2,1))\n",
    "    W[0,0] = V[0,0] \n",
    "    W[1,0] = 3@V[2,0]\n",
    "    return W\n",
    "\n",
    "def R(V):\n",
    "    C = np.zeros((2,2))\n",
    "    C[0,0] = 3\n",
    "    C[1,0] = -1\n",
    "    C[0,1] = 0\n",
    "    C[1,1] = 1\n",
    "    \n",
    "    W = np.zeros((2,1))\n",
    "    W[0,0] = V[0,0]\n",
    "    W[1,0] = V[1,0]\n",
    "\n",
    "    return C@W\n",
    "\n",
    "def ComposeV(V):\n",
    "    return R(S(V))\n",
    "\n",
    "#It is not possible to form the composition becuase the number of Columns in S would not match the number of rows in R."
   ]
  },
  {
   "cell_type": "markdown",
   "metadata": {
    "id": "kNGSSYY6vu7r"
   },
   "source": [
    "**Exercise 5:** Create a Python function which implements the transformation: $S:\\mathbb{R}^3\\to\\mathbb{R}^3$, given below. Use the function to provide evidence whether the transformation is **linear** or not.\n",
    "\n",
    "\n",
    "$$\n",
    "\\begin{equation}\n",
    "S \\left(\\left[\\begin{array}{r} v_1 \\\\ v_2 \\\\ v_3 \\end{array} \\right]\\right) =\n",
    "\\left[\\begin{array}{c} v_1 + v_2 \\\\  1 \\\\ v_3+v_1 \\end{array} \\right]\n",
    "\\end{equation}\n",
    "$$\n",
    "\n",
    "Repeat for the transformation $T:\\mathbb{R}^3\\to\\mathbb{R}^3$ is now defined by\n",
    "\n",
    "$$\n",
    "\\begin{equation}\n",
    "T \\left(\\left[\\begin{array}{r} v_1 \\\\ v_2 \\\\ v_3 \\end{array} \\right]\\right) =\n",
    "\\left[\\begin{array}{c} v_1 + v_2 \\\\  0 \\\\ v_3+v_1 \\end{array} \\right].\n",
    "\\end{equation}\n",
    "$$"
   ]
  },
  {
   "cell_type": "code",
   "execution_count": 11,
   "metadata": {
    "id": "lavhllA0vu7t"
   },
   "outputs": [
    {
     "name": "stdout",
     "output_type": "stream",
     "text": [
      "[[5.]\n",
      " [1.]\n",
      " [4.]] \n",
      "\n",
      "[[110.]\n",
      " [  1.]\n",
      " [ 90.]] \n",
      "\n",
      "[[115.]\n",
      " [  1.]\n",
      " [ 94.]] \n",
      "\n",
      "[[115.]\n",
      " [  2.]\n",
      " [ 94.]] \n",
      "\n",
      "[[ 9.]\n",
      " [-1.]] \n",
      "\n",
      "[[150.]\n",
      " [ 10.]] \n",
      "\n",
      "[[159.]\n",
      " [  9.]] \n",
      "\n",
      "[[159.]\n",
      " [  9.]] \n",
      "\n"
     ]
    }
   ],
   "source": [
    "## Code solution here\n",
    "import numpy as np\n",
    "\n",
    "def S(V):\n",
    "    W = np.zeros((3,1)) \n",
    "    W[0,0] = V[0,0] + V [1,0]\n",
    "    W[1,0] = 1\n",
    "    W[2,0] = V[2,0] + V[0,0] \n",
    "    return W\n",
    "\n",
    "# Test case input  \n",
    "U = np.zeros((3,1)) \n",
    "U[0,0] = 3\n",
    "U[1,0]= 2\n",
    "U[2,0] = 1\n",
    "V = np.zeros((3,1))\n",
    "V[0,0] = 50\n",
    "V[1,0] = 60\n",
    "V[2,0] = 40\n",
    "\n",
    "print (S(U) ,'\\n')\n",
    "print (S(V), '\\n')\n",
    "print (S(U+V), '\\n')\n",
    "print (S(U)+S(V),'\\n')\n",
    "\n",
    "def T(V):\n",
    "    W = np.zeros((3,1)) \n",
    "    W[0,0] = V[0,0] + V [1,0]\n",
    "    W[1,0] = 0\n",
    "    W[2,0] = V[2,0] + V[0,0] \n",
    "    return W\n",
    "\n",
    "# Test case input  \n",
    "print (R(U) ,'\\n')\n",
    "print (R(V), '\\n')\n",
    "print (R(U+V), '\\n')\n",
    "print (R(U)+R(V),'\\n')\n",
    "\n",
    "#Based on the data, we can see that s is not linear and b is linear (See question 3 for explanation of test case). "
   ]
  },
  {
   "cell_type": "markdown",
   "metadata": {
    "id": "jLJIyXcIvu7v"
   },
   "source": [
    "**Exercise 6:** $L:\\mathbb{R}^3\\to\\mathbb{R}^2$ is a **Linear Transformation** . Find $L(kU+V)$ given that $k=7$,\n",
    "\n",
    "$$\n",
    "\\begin{equation}\n",
    "L(U) = \\left[\\begin{array}{r} 1 \\\\ 1  \\end{array} \\right]\\hspace{1cm}\n",
    "L(V) = \\left[\\begin{array}{r} 3 \\\\ 1  \\end{array} \\right]\n",
    "\\end{equation}\n",
    "$$"
   ]
  },
  {
   "cell_type": "code",
   "execution_count": 12,
   "metadata": {
    "id": "_OQEHb2kvu7v"
   },
   "outputs": [
    {
     "name": "stdout",
     "output_type": "stream",
     "text": [
      "[[10]\n",
      " [ 8]]\n"
     ]
    }
   ],
   "source": [
    "## Code solution here\n",
    "#L(kU) = kL(U)\n",
    "# we know that k = 7\n",
    "# We can apply L(kU) + L(V)\n",
    "# The final tranformation will be kL(U) + L(V) \n",
    "\n",
    "import numpy as np\n",
    "L_U = np.array([[1], [1]])\n",
    "L_V = np.array([[3], [1]])\n",
    "k = 7\n",
    "result = k * L_U + L_V\n",
    "print(result)"
   ]
  },
  {
   "cell_type": "markdown",
   "metadata": {
    "id": "HtcbZ2SFvu7w"
   },
   "source": [
    "**Exercise 7:** Let $T:\\mathbb{R}^3 \\to \\mathbb{R}^2$ be defined by $T(X)= AX$, where\n",
    "\n",
    "$$\n",
    "\\begin{equation}\n",
    "A = \\left[\\begin{array}{rrr} 1 & 0 & 2 \\\\ 2 & 1 & 1  \\end{array}\\right].\n",
    "\\end{equation}\n",
    "$$\n",
    "\n",
    "Find all vectors $X$ that satisfy $T(X) = \\left[\\begin{array}{r} 1 \\\\ 2  \\end{array} \\right]\n",
    "$.\n"
   ]
  },
  {
   "cell_type": "code",
   "execution_count": 13,
   "metadata": {
    "id": "tnI-Jywqvu7w"
   },
   "outputs": [],
   "source": [
    "## Code solution here\n",
    "## Our goal is to find X\n",
    "\n",
    "def T(X):\n",
    "    A = np.array([[1, 0, 2],[2, 1, 1]])\n",
    "    b = np.array([[3],[6], [2]])\n",
    "    A.dot(X)"
   ]
  },
  {
   "cell_type": "markdown",
   "metadata": {
    "id": "8GjdxdI_vu7w"
   },
   "source": [
    "**Exercise 8:** Let $M:\\mathbb{P}_1 \\to \\mathbb{P}_3$ be a transformation defined by $M(p(x)) = x^3 + p(x)$. Determine whether $M$ is linear or not."
   ]
  },
  {
   "cell_type": "code",
   "execution_count": 14,
   "metadata": {
    "id": "Ls2GT_Uzvu7x"
   },
   "outputs": [
    {
     "name": "stdout",
     "output_type": "stream",
     "text": [
      "V:\n",
      " [2 4] \n",
      "\n",
      "M(2V):\n",
      " [[1. 0. 4. 8.]] \n",
      "\n",
      "M will not be linear.\n"
     ]
    }
   ],
   "source": [
    "## Code solution here\n",
    "## Goal, see if M is linear or not when M is P1 -> P3 \n",
    "import numpy as np\n",
    "\n",
    "def M(x): \n",
    "    A = np.zeros((1,4))\n",
    "    A[0,0] = 1\n",
    "    A[0,1] = 0\n",
    "    A[0,2] = x[0] \n",
    "    A[0,3] = x[1] \n",
    "    return A\n",
    "\n",
    "V = np.array([2,4])\n",
    "\n",
    "print(\"V:\\n\", V, '\\n')\n",
    "print(\"M(2V):\\n\", M(2 * V), '\\n') \n",
    "print(\"M will not be linear.\") "
   ]
  }
 ],
 "metadata": {
  "colab": {
   "provenance": []
  },
  "kernelspec": {
   "display_name": "Python 3 (ipykernel)",
   "language": "python",
   "name": "python3"
  },
  "language_info": {
   "codemirror_mode": {
    "name": "ipython",
    "version": 3
   },
   "file_extension": ".py",
   "mimetype": "text/x-python",
   "name": "python",
   "nbconvert_exporter": "python",
   "pygments_lexer": "ipython3",
   "version": "3.10.8"
  },
  "toc-showcode": true
 },
 "nbformat": 4,
 "nbformat_minor": 4
}
